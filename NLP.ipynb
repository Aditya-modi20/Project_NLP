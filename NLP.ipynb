{
 "cells": [
  {
   "cell_type": "raw",
   "id": "965e8c89-cd9c-4381-bb8d-273cbd5bc3f3",
   "metadata": {},
   "source": [
    "Classification of the standford movie review dataset for the course project NLP\n",
    "This course is the part of my degree at IU International University of Applied Sciences"
   ]
  },
  {
   "cell_type": "markdown",
   "id": "f8d15877-b64e-428f-bb7b-f4040675ba0b",
   "metadata": {},
   "source": [
    "# Import the necessary libraries"
   ]
  },
  {
   "cell_type": "code",
   "execution_count": 1,
   "id": "557ec07c-798e-4525-8443-9a481851d4e5",
   "metadata": {},
   "outputs": [],
   "source": [
    "import os \n",
    "import re\n",
    "import numpy as np\n",
    "import pandas as pd\n",
    "import random\n",
    "from nltk.corpus import stopwords\n",
    "from nltk.tokenize import word_tokenize\n",
    "from nltk.stem import WordNetLemmatizer\n",
    "\n",
    "from collections import Counter\n",
    "import seaborn as sns\n",
    "import matplotlib.pyplot as plt\n",
    "\n",
    "from sklearn.metrics import confusion_matrix , classification_report\n",
    "from sklearn.feature_extraction.text import CountVectorizer\n",
    "from sklearn.naive_bayes import MultinomialNB\n",
    "from sklearn.pipeline import make_pipeline\n",
    "from sklearn import metrics\n",
    "from sklearn.preprocessing import LabelEncoder\n",
    "from sklearn.linear_model import SGDClassifier\n",
    "from sklearn.model_selection import cross_val_score\n",
    "from sklearn.ensemble import RandomForestClassifier\n",
    "from sklearn.feature_extraction.text import TfidfVectorizer\n",
    "\n",
    "import torch\n",
    "import torch.nn as nn\n",
    "from torch import optim\n",
    "from torch.utils.data import DataLoader, TensorDataset"
   ]
  },
  {
   "cell_type": "code",
   "execution_count": 2,
   "id": "561f3a93-e910-4334-baec-99c0aa07d5af",
   "metadata": {},
   "outputs": [],
   "source": [
    "root_dir = \"/Users/aditya/NLP/dataset\"  # Replace with your actual root directory path\n",
    "train_dir = os.path.join(root_dir, \"train\")\n",
    "test_dir = os.path.join(root_dir, \"test\")"
   ]
  },
  {
   "cell_type": "code",
   "execution_count": 3,
   "id": "8ac6dcdd-6d1c-41a1-8554-4d3c8f714c33",
   "metadata": {},
   "outputs": [],
   "source": [
    "def read_reviews_and_labels(directory):\n",
    "    reviews = []\n",
    "    labels = []\n",
    "    for folder in [\"pos\", \"neg\"]:\n",
    "        for filename in os.listdir(os.path.join(directory, folder)):\n",
    "            filepath = os.path.join(directory, folder, filename)\n",
    "            with open(filepath, 'r', encoding='utf-8') as f:\n",
    "                review = f.read()\n",
    "                label = int(folder == \"pos\")  # 1 for positive, 0 for negative\n",
    "                reviews.append(review)\n",
    "                labels.append(label)\n",
    "    return pd.DataFrame({'review': reviews}), pd.Series(labels)"
   ]
  },
  {
   "cell_type": "code",
   "execution_count": 4,
   "id": "9fdbf252-a65b-457a-ac74-9a8fc9bebc48",
   "metadata": {},
   "outputs": [],
   "source": [
    "train_df, train_labels = read_reviews_and_labels(train_dir)\n",
    "\n",
    "# Add sentiment labels\n",
    "train_df['sentiment'] = np.where(train_labels == 1, 'positive', 'negative')\n",
    "\n",
    "# Read test data\n",
    "test_df, test_labels = read_reviews_and_labels(test_dir)\n",
    "\n",
    "# Add sentiment labels\n",
    "test_df['sentiment'] = np.where(test_labels == 1, 'positive', 'negative')"
   ]
  },
  {
   "cell_type": "code",
   "execution_count": 5,
   "id": "5199a3e2-cf62-40ae-95d4-94123445c35e",
   "metadata": {},
   "outputs": [
    {
     "name": "stdout",
     "output_type": "stream",
     "text": [
      "Train Data:\n",
      "Total train reviews: 25000\n",
      "Positive train reviews: 12500\n",
      "Negative train reviews: 12500\n",
      "\n",
      "Test Data:\n",
      "Total test reviews: 25000\n",
      "Positive test reviews: 12500\n",
      "Negative test reviews: 12500\n"
     ]
    }
   ],
   "source": [
    "print(\"Train Data:\")\n",
    "#print(train_df.head())\n",
    "print(f\"Total train reviews: {len(train_df)}\")\n",
    "print(f\"Positive train reviews: {train_df[train_df['sentiment'] == 'positive'].shape[0]}\")\n",
    "print(f\"Negative train reviews: {train_df[train_df['sentiment'] == 'negative'].shape[0]}\")\n",
    "\n",
    "print(\"\\nTest Data:\")\n",
    "#print(test_df.head())\n",
    "print(f\"Total test reviews: {len(test_df)}\")\n",
    "print(f\"Positive test reviews: {test_df[test_df['sentiment'] == 'positive'].shape[0]}\")\n",
    "print(f\"Negative test reviews: {test_df[test_df['sentiment'] == 'negative'].shape[0]}\")"
   ]
  },
  {
   "cell_type": "code",
   "execution_count": 6,
   "id": "3579b7f4-8c53-450a-8446-26e13620cda2",
   "metadata": {},
   "outputs": [
    {
     "data": {
      "text/html": [
       "<div>\n",
       "<style scoped>\n",
       "    .dataframe tbody tr th:only-of-type {\n",
       "        vertical-align: middle;\n",
       "    }\n",
       "\n",
       "    .dataframe tbody tr th {\n",
       "        vertical-align: top;\n",
       "    }\n",
       "\n",
       "    .dataframe thead th {\n",
       "        text-align: right;\n",
       "    }\n",
       "</style>\n",
       "<table border=\"1\" class=\"dataframe\">\n",
       "  <thead>\n",
       "    <tr style=\"text-align: right;\">\n",
       "      <th></th>\n",
       "      <th>review</th>\n",
       "      <th>sentiment</th>\n",
       "    </tr>\n",
       "  </thead>\n",
       "  <tbody>\n",
       "    <tr>\n",
       "      <th>0</th>\n",
       "      <td>For a movie that gets no respect there sure ar...</td>\n",
       "      <td>positive</td>\n",
       "    </tr>\n",
       "    <tr>\n",
       "      <th>1</th>\n",
       "      <td>Bizarre horror movie filled with famous faces ...</td>\n",
       "      <td>positive</td>\n",
       "    </tr>\n",
       "    <tr>\n",
       "      <th>2</th>\n",
       "      <td>A solid, if unremarkable film. Matthau, as Ein...</td>\n",
       "      <td>positive</td>\n",
       "    </tr>\n",
       "    <tr>\n",
       "      <th>3</th>\n",
       "      <td>It's a strange feeling to sit alone in a theat...</td>\n",
       "      <td>positive</td>\n",
       "    </tr>\n",
       "    <tr>\n",
       "      <th>4</th>\n",
       "      <td>You probably all already know this by now, but...</td>\n",
       "      <td>positive</td>\n",
       "    </tr>\n",
       "    <tr>\n",
       "      <th>5</th>\n",
       "      <td>I saw the movie with two grown children. Altho...</td>\n",
       "      <td>positive</td>\n",
       "    </tr>\n",
       "    <tr>\n",
       "      <th>6</th>\n",
       "      <td>You're using the IMDb.&lt;br /&gt;&lt;br /&gt;You've given...</td>\n",
       "      <td>positive</td>\n",
       "    </tr>\n",
       "    <tr>\n",
       "      <th>7</th>\n",
       "      <td>This was a good film with a powerful message o...</td>\n",
       "      <td>positive</td>\n",
       "    </tr>\n",
       "    <tr>\n",
       "      <th>8</th>\n",
       "      <td>Made after QUARTET was, TRIO continued the qua...</td>\n",
       "      <td>positive</td>\n",
       "    </tr>\n",
       "    <tr>\n",
       "      <th>9</th>\n",
       "      <td>For a mature man, to admit that he shed a tear...</td>\n",
       "      <td>positive</td>\n",
       "    </tr>\n",
       "  </tbody>\n",
       "</table>\n",
       "</div>"
      ],
      "text/plain": [
       "                                              review sentiment\n",
       "0  For a movie that gets no respect there sure ar...  positive\n",
       "1  Bizarre horror movie filled with famous faces ...  positive\n",
       "2  A solid, if unremarkable film. Matthau, as Ein...  positive\n",
       "3  It's a strange feeling to sit alone in a theat...  positive\n",
       "4  You probably all already know this by now, but...  positive\n",
       "5  I saw the movie with two grown children. Altho...  positive\n",
       "6  You're using the IMDb.<br /><br />You've given...  positive\n",
       "7  This was a good film with a powerful message o...  positive\n",
       "8  Made after QUARTET was, TRIO continued the qua...  positive\n",
       "9  For a mature man, to admit that he shed a tear...  positive"
      ]
     },
     "execution_count": 6,
     "metadata": {},
     "output_type": "execute_result"
    }
   ],
   "source": [
    "train_df.head(10)"
   ]
  },
  {
   "cell_type": "code",
   "execution_count": 7,
   "id": "2554e64c-d004-43ff-a2c9-9eccac643df2",
   "metadata": {},
   "outputs": [
    {
     "name": "stdout",
     "output_type": "stream",
     "text": [
      "Total words in the train dataset: 33126741\n",
      "Average words per movie: 1325.07\n",
      "\n",
      "Total words in the test dataset: 32344810\n",
      "Average words per movie: 1293.79\n"
     ]
    }
   ],
   "source": [
    "# check the total words in the train dataset\n",
    "total_words = sum(len(row['review']) for _, row in train_df.iterrows())\n",
    "average_words_per_movie = total_words / len(train_df)\n",
    "\n",
    "# check the total words in the test dataset\n",
    "total_words1 = sum(len(row['review']) for _, row in test_df.iterrows())\n",
    "average_words_per_movie1 = total_words1 / len(test_df)\n",
    "\n",
    "print(f\"Total words in the train dataset: {total_words}\")\n",
    "print(f\"Average words per movie: {average_words_per_movie:.2f}\")\n",
    "\n",
    "print(f\"\\nTotal words in the test dataset: {total_words1}\")\n",
    "print(f\"Average words per movie: {average_words_per_movie1:.2f}\")\n"
   ]
  },
  {
   "cell_type": "code",
   "execution_count": 8,
   "id": "1c3cea2d-1c62-47e5-ac0c-3a9d65e3b01d",
   "metadata": {},
   "outputs": [],
   "source": [
    "def clean_text(text):\n",
    "    # Remove unwanted characters while keeping useful punctuation\n",
    "    cleaned_text = re.sub(r'\\bbr\\b', '', text)  # Remove standalone \"br\"\n",
    "    cleaned_text = re.sub(r'<br\\s*/?>', '', cleaned_text)  # Remove <br> tags if present\n",
    "    cleaned_text = re.sub(r'[<>.*?]', '', str(text))  # Retain periods, commas, and apostrophes\n",
    "    cleaned_text = re.sub(r\"['’]\", '', cleaned_text)  # Remove apostrophes but consider keeping contractions\n",
    "    return cleaned_text.strip()"
   ]
  },
  {
   "cell_type": "code",
   "execution_count": 9,
   "id": "c70ef3d1-8d30-48b8-a42e-7697dd15af21",
   "metadata": {},
   "outputs": [],
   "source": [
    "train_df['review'] = train_df['review'].apply(clean_text)\n",
    "test_df['review'] = test_df['review'].apply(clean_text)"
   ]
  },
  {
   "cell_type": "code",
   "execution_count": 10,
   "id": "2fe66b3c-3e78-430b-8169-6e0ad07acf45",
   "metadata": {},
   "outputs": [
    {
     "data": {
      "text/html": [
       "<div>\n",
       "<style scoped>\n",
       "    .dataframe tbody tr th:only-of-type {\n",
       "        vertical-align: middle;\n",
       "    }\n",
       "\n",
       "    .dataframe tbody tr th {\n",
       "        vertical-align: top;\n",
       "    }\n",
       "\n",
       "    .dataframe thead th {\n",
       "        text-align: right;\n",
       "    }\n",
       "</style>\n",
       "<table border=\"1\" class=\"dataframe\">\n",
       "  <thead>\n",
       "    <tr style=\"text-align: right;\">\n",
       "      <th></th>\n",
       "      <th>review</th>\n",
       "      <th>sentiment</th>\n",
       "    </tr>\n",
       "  </thead>\n",
       "  <tbody>\n",
       "    <tr>\n",
       "      <th>0</th>\n",
       "      <td>For a movie that gets no respect there sure ar...</td>\n",
       "      <td>positive</td>\n",
       "    </tr>\n",
       "    <tr>\n",
       "      <th>1</th>\n",
       "      <td>Bizarre horror movie filled with famous faces ...</td>\n",
       "      <td>positive</td>\n",
       "    </tr>\n",
       "    <tr>\n",
       "      <th>2</th>\n",
       "      <td>A solid, if unremarkable film Matthau, as Eins...</td>\n",
       "      <td>positive</td>\n",
       "    </tr>\n",
       "    <tr>\n",
       "      <th>3</th>\n",
       "      <td>Its a strange feeling to sit alone in a theate...</td>\n",
       "      <td>positive</td>\n",
       "    </tr>\n",
       "    <tr>\n",
       "      <th>4</th>\n",
       "      <td>You probably all already know this by now, but...</td>\n",
       "      <td>positive</td>\n",
       "    </tr>\n",
       "    <tr>\n",
       "      <th>5</th>\n",
       "      <td>I saw the movie with two grown children Althou...</td>\n",
       "      <td>positive</td>\n",
       "    </tr>\n",
       "    <tr>\n",
       "      <th>6</th>\n",
       "      <td>Youre using the IMDbbr /br /Youve given some h...</td>\n",
       "      <td>positive</td>\n",
       "    </tr>\n",
       "    <tr>\n",
       "      <th>7</th>\n",
       "      <td>This was a good film with a powerful message o...</td>\n",
       "      <td>positive</td>\n",
       "    </tr>\n",
       "    <tr>\n",
       "      <th>8</th>\n",
       "      <td>Made after QUARTET was, TRIO continued the qua...</td>\n",
       "      <td>positive</td>\n",
       "    </tr>\n",
       "    <tr>\n",
       "      <th>9</th>\n",
       "      <td>For a mature man, to admit that he shed a tear...</td>\n",
       "      <td>positive</td>\n",
       "    </tr>\n",
       "  </tbody>\n",
       "</table>\n",
       "</div>"
      ],
      "text/plain": [
       "                                              review sentiment\n",
       "0  For a movie that gets no respect there sure ar...  positive\n",
       "1  Bizarre horror movie filled with famous faces ...  positive\n",
       "2  A solid, if unremarkable film Matthau, as Eins...  positive\n",
       "3  Its a strange feeling to sit alone in a theate...  positive\n",
       "4  You probably all already know this by now, but...  positive\n",
       "5  I saw the movie with two grown children Althou...  positive\n",
       "6  Youre using the IMDbbr /br /Youve given some h...  positive\n",
       "7  This was a good film with a powerful message o...  positive\n",
       "8  Made after QUARTET was, TRIO continued the qua...  positive\n",
       "9  For a mature man, to admit that he shed a tear...  positive"
      ]
     },
     "execution_count": 10,
     "metadata": {},
     "output_type": "execute_result"
    }
   ],
   "source": [
    "train_df.head(10)"
   ]
  },
  {
   "cell_type": "code",
   "execution_count": 11,
   "id": "1ab1dbbe-e4b4-4cd0-91a1-ac088611186d",
   "metadata": {},
   "outputs": [],
   "source": [
    "def remove_stop_words(text):\n",
    "    # Remove non-alphabetic characters while keeping punctuation\n",
    "    text = re.sub(r'[^a-zA-Z\\s.,!?]', '', text)\n",
    "    \n",
    "    # Tokenization and lemmatization can proceed here, but consider retaining key terms\n",
    "    stop_words = set(stopwords.words('english'))\n",
    "    tokens = word_tokenize(text.lower())\n",
    "    filtered_tokens = [token for token in tokens if token not in stop_words or token in ['not', 'no']]  # Retain key negations\n",
    "    \n",
    "    lemmatizer = WordNetLemmatizer()\n",
    "    lemmatized_tokens = [lemmatizer.lemmatize(token) for token in filtered_tokens]\n",
    "    \n",
    "    return ' '.join(lemmatized_tokens)"
   ]
  },
  {
   "cell_type": "code",
   "execution_count": 12,
   "id": "8bc296b4-415d-4580-a8db-e3dca4494c89",
   "metadata": {},
   "outputs": [],
   "source": [
    "train_df['review'] = train_df['review'].apply(remove_stop_words)\n",
    "test_df['review'] = test_df['review'].apply(remove_stop_words)"
   ]
  },
  {
   "cell_type": "code",
   "execution_count": 13,
   "id": "6c9f3262-121a-4f6b-a503-08bddea161a2",
   "metadata": {},
   "outputs": [
    {
     "data": {
      "text/html": [
       "<div>\n",
       "<style scoped>\n",
       "    .dataframe tbody tr th:only-of-type {\n",
       "        vertical-align: middle;\n",
       "    }\n",
       "\n",
       "    .dataframe tbody tr th {\n",
       "        vertical-align: top;\n",
       "    }\n",
       "\n",
       "    .dataframe thead th {\n",
       "        text-align: right;\n",
       "    }\n",
       "</style>\n",
       "<table border=\"1\" class=\"dataframe\">\n",
       "  <thead>\n",
       "    <tr style=\"text-align: right;\">\n",
       "      <th></th>\n",
       "      <th>review</th>\n",
       "      <th>sentiment</th>\n",
       "    </tr>\n",
       "  </thead>\n",
       "  <tbody>\n",
       "    <tr>\n",
       "      <th>0</th>\n",
       "      <td>movie get no respect sure lot memorable quote ...</td>\n",
       "      <td>positive</td>\n",
       "    </tr>\n",
       "    <tr>\n",
       "      <th>1</th>\n",
       "      <td>bizarre horror movie filled famous face stolen...</td>\n",
       "      <td>positive</td>\n",
       "    </tr>\n",
       "    <tr>\n",
       "      <th>2</th>\n",
       "      <td>solid , unremarkable film matthau , einstein ,...</td>\n",
       "      <td>positive</td>\n",
       "    </tr>\n",
       "    <tr>\n",
       "      <th>3</th>\n",
       "      <td>strange feeling sit alone theater occupied par...</td>\n",
       "      <td>positive</td>\n",
       "    </tr>\n",
       "    <tr>\n",
       "      <th>4</th>\n",
       "      <td>probably already know , additional episode nev...</td>\n",
       "      <td>positive</td>\n",
       "    </tr>\n",
       "    <tr>\n",
       "      <th>5</th>\n",
       "      <td>saw movie two grown child although not clever ...</td>\n",
       "      <td>positive</td>\n",
       "    </tr>\n",
       "    <tr>\n",
       "      <th>6</th>\n",
       "      <td>youre using imdbbr br youve given hefty vote f...</td>\n",
       "      <td>positive</td>\n",
       "    </tr>\n",
       "    <tr>\n",
       "      <th>7</th>\n",
       "      <td>good film powerful message love redemption lov...</td>\n",
       "      <td>positive</td>\n",
       "    </tr>\n",
       "    <tr>\n",
       "      <th>8</th>\n",
       "      <td>made quartet , trio continued quality earlier ...</td>\n",
       "      <td>positive</td>\n",
       "    </tr>\n",
       "    <tr>\n",
       "      <th>9</th>\n",
       "      <td>mature man , admit shed tear film mature respo...</td>\n",
       "      <td>positive</td>\n",
       "    </tr>\n",
       "  </tbody>\n",
       "</table>\n",
       "</div>"
      ],
      "text/plain": [
       "                                              review sentiment\n",
       "0  movie get no respect sure lot memorable quote ...  positive\n",
       "1  bizarre horror movie filled famous face stolen...  positive\n",
       "2  solid , unremarkable film matthau , einstein ,...  positive\n",
       "3  strange feeling sit alone theater occupied par...  positive\n",
       "4  probably already know , additional episode nev...  positive\n",
       "5  saw movie two grown child although not clever ...  positive\n",
       "6  youre using imdbbr br youve given hefty vote f...  positive\n",
       "7  good film powerful message love redemption lov...  positive\n",
       "8  made quartet , trio continued quality earlier ...  positive\n",
       "9  mature man , admit shed tear film mature respo...  positive"
      ]
     },
     "execution_count": 13,
     "metadata": {},
     "output_type": "execute_result"
    }
   ],
   "source": [
    "train_df.head(10)"
   ]
  },
  {
   "cell_type": "markdown",
   "id": "b0860258-215f-40cd-af7e-ee59ccac6709",
   "metadata": {},
   "source": [
    "## Prepare the dataset "
   ]
  },
  {
   "cell_type": "code",
   "execution_count": 14,
   "id": "ec749b70-3b9c-4c9a-80db-257bd344605f",
   "metadata": {},
   "outputs": [],
   "source": [
    "# Prepare the date\n",
    "X_train = train_df['review']\n",
    "y_train = train_df['sentiment']\n",
    "X_test = test_df['review']\n",
    "y_test = test_df['sentiment']\n",
    "\n",
    "# Encode the sentiments\n",
    "label_encoder = LabelEncoder()\n",
    "y_train_encoded = label_encoder.fit_transform(y_train)\n",
    "y_test_encoded = label_encoder.transform(y_test)"
   ]
  },
  {
   "cell_type": "markdown",
   "id": "e071a6fd-b1a1-4c22-8b17-97fa1688e2cb",
   "metadata": {},
   "source": [
    "# Naive Bayes Model "
   ]
  },
  {
   "cell_type": "code",
   "execution_count": 15,
   "id": "a388f1fa-7f01-4036-9c6c-363c4a37400c",
   "metadata": {},
   "outputs": [
    {
     "name": "stdout",
     "output_type": "stream",
     "text": [
      "Accuracy: 0.82\n"
     ]
    }
   ],
   "source": [
    "# Create a Naive Bayes model with a text vectorization pipeline\n",
    "model = make_pipeline(CountVectorizer(), MultinomialNB())\n",
    "\n",
    "# Train the model\n",
    "model.fit(X_train, y_train_encoded)\n",
    "\n",
    "# Make predictions\n",
    "predicted = model.predict(X_test)\n",
    "\n",
    "# Evaluate the model\n",
    "accuracy = metrics.accuracy_score(y_test_encoded, predicted)\n",
    "print(f'Accuracy: {accuracy:.2f}')"
   ]
  },
  {
   "cell_type": "code",
   "execution_count": 16,
   "id": "e3e7f8ff-5015-40cb-baa5-24e25d88570f",
   "metadata": {},
   "outputs": [
    {
     "name": "stdout",
     "output_type": "stream",
     "text": [
      "              precision    recall  f1-score   support\n",
      "\n",
      "    negative       0.79      0.88      0.83     12500\n",
      "    positive       0.87      0.77      0.81     12500\n",
      "\n",
      "    accuracy                           0.82     25000\n",
      "   macro avg       0.83      0.82      0.82     25000\n",
      "weighted avg       0.83      0.82      0.82     25000\n",
      "\n"
     ]
    },
    {
     "data": {
      "image/png": "[encoded data removed]",
      "text/plain": [
       "<Figure size 800x600 with 2 Axes>"
      ]
     },
     "metadata": {},
     "output_type": "display_data"
    }
   ],
   "source": [
    "# Print classification report\n",
    "print(metrics.classification_report(y_test_encoded, predicted, target_names=label_encoder.classes_))\n",
    "\n",
    "# Confusion matrix\n",
    "confusion_matrix = metrics.confusion_matrix(y_test_encoded, predicted)\n",
    "\n",
    "# Plot confusion matrix\n",
    "plt.figure(figsize=(8, 6))\n",
    "sns.heatmap(confusion_matrix, annot=True, fmt='d', cmap='Blues',\n",
    "            xticklabels=label_encoder.classes_,\n",
    "            yticklabels=label_encoder.classes_)\n",
    "plt.ylabel('Actual')\n",
    "plt.xlabel('Predicted')\n",
    "plt.title('Confusion Matrix')\n",
    "plt.show()"
   ]
  },
  {
   "cell_type": "markdown",
   "id": "582c4f1d-0589-4e32-86f0-4b46cec40c7c",
   "metadata": {},
   "source": [
    "## Stochastic Gradient descent "
   ]
  },
  {
   "cell_type": "code",
   "execution_count": 17,
   "id": "95301fd2-b703-42d3-af59-64f815015255",
   "metadata": {},
   "outputs": [
    {
     "name": "stdout",
     "output_type": "stream",
     "text": [
      "SGD Classifier Cross-Validation Accuracy: 0.8554400000000001\n",
      "SGD Classifier Test Accuracy: 0.85828\n"
     ]
    }
   ],
   "source": [
    "sgd_pipeline = make_pipeline(\n",
    "    TfidfVectorizer(max_features=1000),\n",
    "    SGDClassifier(loss='hinge')  # Hinge loss for linear SVM\n",
    ")\n",
    "\n",
    "# Fit the SGD model\n",
    "sgd_pipeline.fit(X_train, y_train_encoded)\n",
    "\n",
    "# Evaluate using cross-validation\n",
    "sgd_scores = cross_val_score(sgd_pipeline, X_train, y_train_encoded, cv=5, scoring='accuracy')\n",
    "print(\"SGD Classifier Cross-Validation Accuracy:\", sgd_scores.mean())\n",
    "\n",
    "# Evaluate on the test set\n",
    "sgd_test_accuracy = sgd_pipeline.score(X_test, y_test_encoded)\n",
    "print(\"SGD Classifier Test Accuracy:\", sgd_test_accuracy)"
   ]
  },
  {
   "cell_type": "code",
   "execution_count": 18,
   "id": "12f52d76-e2fa-46d8-951c-0b5c3071b788",
   "metadata": {},
   "outputs": [
    {
     "name": "stdout",
     "output_type": "stream",
     "text": [
      "              precision    recall  f1-score   support\n",
      "\n",
      "    Negative       0.87      0.85      0.86     12500\n",
      "    Positive       0.85      0.87      0.86     12500\n",
      "\n",
      "    accuracy                           0.86     25000\n",
      "   macro avg       0.86      0.86      0.86     25000\n",
      "weighted avg       0.86      0.86      0.86     25000\n",
      "\n"
     ]
    },
    {
     "data": {
      "image/png": "[encoded data removed]",
      "text/plain": [
       "<Figure size 800x600 with 2 Axes>"
      ]
     },
     "metadata": {},
     "output_type": "display_data"
    }
   ],
   "source": [
    "# Generate predictions\n",
    "y_pred = sgd_pipeline.predict(X_test)\n",
    "\n",
    "# Generate and print classification report\n",
    "report = classification_report(y_test_encoded, y_pred, target_names=['Negative', 'Positive'])\n",
    "print(report)\n",
    "\n",
    "# Generate and plot confusion matrix\n",
    "conf_matrix = metrics.confusion_matrix(y_test_encoded, y_pred)\n",
    "\n",
    "plt.figure(figsize=(8, 6))\n",
    "sns.heatmap(conf_matrix, annot=True, fmt='d', cmap='Blues', \n",
    "            xticklabels=['Negative', 'Positive'], \n",
    "            yticklabels=['Negative', 'Positive'])\n",
    "plt.xlabel('Predicted')\n",
    "plt.ylabel('Actual')\n",
    "plt.title('Confusion Matrix')\n",
    "plt.show()"
   ]
  },
  {
   "cell_type": "markdown",
   "id": "99f935e8-a91b-4b88-a105-b1fa11839597",
   "metadata": {},
   "source": [
    "## Random Forest"
   ]
  },
  {
   "cell_type": "code",
   "execution_count": 19,
   "id": "bb663cb1-29b8-4b76-b7be-48b9f861b723",
   "metadata": {},
   "outputs": [
    {
     "name": "stdout",
     "output_type": "stream",
     "text": [
      "Random Forest Classifier Cross-Validation Accuracy: 0.8253999999999999\n",
      "Random Forest Classifier Test Accuracy: 0.82588\n"
     ]
    }
   ],
   "source": [
    "rf_pipeline = make_pipeline(\n",
    "    TfidfVectorizer(max_features=1000),\n",
    "    RandomForestClassifier(n_estimators=100)  # You can adjust n_estimators\n",
    ")\n",
    "\n",
    "# Fit the Random Forest model\n",
    "rf_pipeline.fit(X_train, y_train_encoded)\n",
    "\n",
    "# Evaluate using cross-validation\n",
    "rf_scores = cross_val_score(rf_pipeline, X_train, y_train_encoded, cv=5, scoring='accuracy')\n",
    "print(\"Random Forest Classifier Cross-Validation Accuracy:\", rf_scores.mean())\n",
    "\n",
    "# Evaluate on the test set\n",
    "rf_test_accuracy = rf_pipeline.score(X_test, y_test_encoded)\n",
    "print(\"Random Forest Classifier Test Accuracy:\", rf_test_accuracy)"
   ]
  },
  {
   "cell_type": "code",
   "execution_count": 20,
   "id": "2ee2558d-264d-40a0-8490-8669cda89747",
   "metadata": {},
   "outputs": [
    {
     "name": "stdout",
     "output_type": "stream",
     "text": [
      "              precision    recall  f1-score   support\n",
      "\n",
      "    Negative       0.82      0.83      0.83     12500\n",
      "    Positive       0.83      0.82      0.82     12500\n",
      "\n",
      "    accuracy                           0.83     25000\n",
      "   macro avg       0.83      0.83      0.83     25000\n",
      "weighted avg       0.83      0.83      0.83     25000\n",
      "\n"
     ]
    },
    {
     "data": {
      "image/png": "[encoded data removed]",
      "text/plain": [
       "<Figure size 800x600 with 2 Axes>"
      ]
     },
     "metadata": {},
     "output_type": "display_data"
    }
   ],
   "source": [
    "# Make predictions on the test set\n",
    "y_pred = rf_pipeline.predict(X_test)\n",
    "\n",
    "# Generate and print classification report\n",
    "report = classification_report(y_test_encoded, y_pred, target_names=['Negative', 'Positive'])\n",
    "print(report)\n",
    "\n",
    "# Generate and plot confusion matrix\n",
    "conf_matrix = metrics.confusion_matrix(y_test_encoded, y_pred)\n",
    "plt.figure(figsize=(8, 6))\n",
    "sns.heatmap(conf_matrix, annot=True, fmt='d', cmap='Blues', \n",
    "            xticklabels=['Negative', 'Positive'], \n",
    "            yticklabels=['Negative', 'Positive'])\n",
    "plt.xlabel('Predicted')\n",
    "plt.ylabel('Actual')\n",
    "plt.title('Confusion Matrix')\n",
    "plt.show()"
   ]
  },
  {
   "cell_type": "markdown",
   "id": "57dd66a9-942a-4e59-bac9-d1750e1bb257",
   "metadata": {},
   "source": [
    "# Advance Training Step"
   ]
  },
  {
   "cell_type": "code",
   "execution_count": 21,
   "id": "fa0c6406-ea01-4915-8362-f8126ddb8aba",
   "metadata": {},
   "outputs": [],
   "source": [
    "# Tokenization and vocabulary creation\n",
    "tokenized_reviews = [word_tokenize(review.lower()) for review in train_df['review']]\n",
    "all_words = [word for review in tokenized_reviews for word in review]\n",
    "vocab = Counter(all_words)\n",
    "word_to_index = {word: i + 1 for i, (word, _) in enumerate(vocab.most_common())}\n",
    "\n",
    "# Convert reviews to sequences\n",
    "def review_to_sequence(review):\n",
    "    indices = [word_to_index.get(word, 0) for word in review]\n",
    "    return indices\n",
    "\n",
    "X_train = [review_to_sequence(review) for review in tokenized_reviews]\n",
    "y_train = [1 if sentiment == 'positive' else 0 for sentiment in train_df['sentiment']]\n",
    "\n",
    "# Padding sequences\n",
    "max_length = 100\n",
    "X_train = [seq[:max_length] + [0] * (max_length - len(seq)) for seq in X_train]\n",
    "\n",
    "# Convert to tensors\n",
    "X_train_tensor = torch.tensor(X_train, dtype=torch.long)\n",
    "y_train_tensor = torch.tensor(y_train, dtype=torch.float32)\n",
    "\n",
    "# Create DataLoader\n",
    "train_dataset = TensorDataset(X_train_tensor, y_train_tensor)\n",
    "train_loader = DataLoader(train_dataset, batch_size=64, shuffle=True)"
   ]
  },
  {
   "cell_type": "markdown",
   "id": "c49b4755-441e-4cb5-9896-e57ca3fd61a7",
   "metadata": {},
   "source": [
    "## Long Short Term Memory"
   ]
  },
  {
   "cell_type": "code",
   "execution_count": 22,
   "id": "f46ed627-2fed-43af-8fdb-84e524e1a26a",
   "metadata": {},
   "outputs": [],
   "source": [
    "class LSTMModel(nn.Module):\n",
    "    def __init__(self, vocab_size, embed_dim, hidden_dim, output_size):\n",
    "        super(LSTMModel, self).__init__()\n",
    "        self.embedding = nn.Embedding(vocab_size + 1, embed_dim)  # +1 for padding\n",
    "        self.lstm = nn.LSTM(embed_dim, hidden_dim, batch_first=True)\n",
    "        self.fc = nn.Linear(hidden_dim, 1)\n",
    "\n",
    "    def forward(self, x):\n",
    "        x = self.embedding(x)\n",
    "        x, (hn, cn) = self.lstm(x)\n",
    "        out = self.fc(hn[-1])\n",
    "        return torch.sigmoid(out)\n",
    "\n",
    "# Hyperparameters\n",
    "embed_dim = 100\n",
    "hidden_dim = 100\n",
    "batch_size = 32\n",
    "model = LSTMModel(len(word_to_index), embed_dim, hidden_dim, batch_size)"
   ]
  },
  {
   "cell_type": "code",
   "execution_count": 23,
   "id": "9ebaf578-2485-4a8a-b90a-3be59256a449",
   "metadata": {
    "scrolled": true
   },
   "outputs": [
    {
     "name": "stdout",
     "output_type": "stream",
     "text": [
      "Epoch 1/5, Loss: 0.6843\n",
      "Epoch 2/5, Loss: 0.6050\n",
      "Epoch 3/5, Loss: 0.4781\n",
      "Epoch 4/5, Loss: 0.3284\n",
      "Epoch 5/5, Loss: 0.2429\n"
     ]
    }
   ],
   "source": [
    "\n",
    "# Loss and optimizer\n",
    "criterion = nn.BCELoss()\n",
    "optimizer = optim.Adam(model.parameters(), lr=0.001)\n",
    "\n",
    "# Training loop\n",
    "num_epochs = 5\n",
    "train_losses = []\n",
    "for epoch in range(num_epochs):\n",
    "    epoch_loss = 0.0\n",
    "    for texts, labels in train_loader:\n",
    "        model.train()\n",
    "        optimizer.zero_grad()\n",
    "        outputs = model(texts)\n",
    "        loss = criterion(outputs.squeeze(), labels)\n",
    "        loss.backward()\n",
    "        optimizer.step()\n",
    "        epoch_loss += loss.item()  # Accumulate loss for the epoch\n",
    "\n",
    "    average_loss = epoch_loss / len(train_loader)  # Average loss for the epoch\n",
    "    train_losses.append(average_loss)  # Store the loss\n",
    "    print(f'Epoch {epoch + 1}/{num_epochs}, Loss: {average_loss:.4f}')   \n",
    "    #print(f'Epoch {epoch + 1}/{num_epochs}, Loss: {loss.item()}',)"
   ]
  },
  {
   "cell_type": "code",
   "execution_count": 24,
   "id": "c46128fa-cf9b-49f7-b588-a87d58b5911c",
   "metadata": {},
   "outputs": [
    {
     "data": {
      "image/png": "[encoded data removed]",
      "text/plain": [
       "<Figure size 1000x500 with 1 Axes>"
      ]
     },
     "metadata": {},
     "output_type": "display_data"
    }
   ],
   "source": [
    "# Visualization of Training Loss\n",
    "plt.figure(figsize=(10, 5))\n",
    "plt.plot(range(1, num_epochs + 1), train_losses, label='Training Loss', marker='o')\n",
    "plt.title('Training Loss Over Epochs')\n",
    "plt.xlabel('Epochs')\n",
    "plt.ylabel('Loss')\n",
    "plt.xticks(range(1, num_epochs + 1))\n",
    "plt.legend()\n",
    "plt.grid()\n",
    "plt.show()"
   ]
  },
  {
   "cell_type": "markdown",
   "id": "bb443fbd-283f-4acc-b987-2b5590756952",
   "metadata": {},
   "source": [
    "### Test the model"
   ]
  },
  {
   "cell_type": "code",
   "execution_count": 25,
   "id": "0a6de74e-8f45-4e6d-98ad-eb9d55c7c31a",
   "metadata": {},
   "outputs": [
    {
     "name": "stdout",
     "output_type": "stream",
     "text": [
      "Accuracy: 80.54%\n"
     ]
    }
   ],
   "source": [
    "# Preprocess test set\n",
    "tokenized_test_reviews = [word_tokenize(review.lower()) for review in test_df['review']]\n",
    "X_test = [review_to_sequence(review) for review in tokenized_test_reviews]\n",
    "X_test = [seq[:max_length] + [0] * (max_length - len(seq)) for seq in X_test]\n",
    "y_test = [1 if sentiment == 'positive' else 0 for sentiment in test_df['sentiment']]\n",
    "\n",
    "# Convert to tensors\n",
    "X_test_tensor = torch.tensor(X_test, dtype=torch.long)\n",
    "y_test_tensor = torch.tensor(y_test, dtype=torch.float32)\n",
    "\n",
    "# Create DataLoader\n",
    "test_dataset = TensorDataset(X_test_tensor, y_test_tensor)\n",
    "test_loader = DataLoader(test_dataset, batch_size=64, shuffle=False)\n",
    "\n",
    "# Initialize lists for correct and incorrect predictions\n",
    "correct_preds = []\n",
    "incorrect_preds = []\n",
    "\n",
    "# Store the predicted and true labels temporarily for calculating the metrics\n",
    "all_true_labels = []\n",
    "all_predicted_labels = []\n",
    "\n",
    "# Evaluate\n",
    "model.eval()\n",
    "with torch.no_grad():\n",
    "    correct = 0\n",
    "    total = 0\n",
    "    for texts, labels in test_loader:\n",
    "        outputs = model(texts)\n",
    "        predicted = (outputs.squeeze() > 0.5).float()\n",
    "\n",
    "        # Store predictions\n",
    "        predicted_sentiments = np.where(predicted.cpu().numpy(), 1, 0)\n",
    "        true_sentiments = labels.cpu().numpy()\n",
    "        confidence_levels = outputs.squeeze().cpu().numpy()\n",
    "        \n",
    "        total += labels.size(0)\n",
    "        correct += (predicted == labels).sum().item()\n",
    "\n",
    "        # Append to the lists\n",
    "        all_true_labels.extend(true_sentiments)\n",
    "        all_predicted_labels.extend(predicted_sentiments)\n",
    "\n",
    "        \n",
    "        # Store correct and incorrect predictions\n",
    "        for i in range(len(labels)):\n",
    "            sentiment = labels[i].item()\n",
    "            prediction = predicted[i].item()\n",
    "            confidence = confidence_levels[i]\n",
    "            if prediction == sentiment:\n",
    "                correct_preds.append((texts[i], sentiment, prediction,confidence))\n",
    "            else:\n",
    "                incorrect_preds.append((texts[i], sentiment, prediction, confidence))\n",
    "                \n",
    "\n",
    "    accuracy = 100 * correct / total\n",
    "    print(f'Accuracy: {accuracy:.2f}%')"
   ]
  },
  {
   "cell_type": "code",
   "execution_count": 26,
   "id": "f860cbeb-23f9-4e8e-878d-e4165d57ea3f",
   "metadata": {},
   "outputs": [
    {
     "name": "stdout",
     "output_type": "stream",
     "text": [
      "Classification Report:\n",
      "              precision    recall  f1-score   support\n",
      "\n",
      "    negative       0.80      0.82      0.81     12500\n",
      "    positive       0.81      0.79      0.80     12500\n",
      "\n",
      "    accuracy                           0.81     25000\n",
      "   macro avg       0.81      0.81      0.81     25000\n",
      "weighted avg       0.81      0.81      0.81     25000\n",
      "\n"
     ]
    }
   ],
   "source": [
    "# Generate classification report using the sklearn classification_report function\n",
    "print(\"Classification Report:\")\n",
    "print(classification_report(all_true_labels, all_predicted_labels, target_names=['negative', 'positive']))"
   ]
  },
  {
   "cell_type": "code",
   "execution_count": 27,
   "id": "cecee4bc-ee27-49bf-a778-bd9fd0d66f4d",
   "metadata": {},
   "outputs": [],
   "source": [
    "# After training the model\n",
    "model.eval()\n",
    "with torch.no_grad():\n",
    "    outputs = model(X_train_tensor)\n",
    "    predictions = (outputs.squeeze() > 0.5).float()\n",
    "\n",
    "# Identify correct and incorrect predictions\n",
    "correct_indices = (predictions == y_train_tensor).nonzero(as_tuple=True)[0]\n",
    "incorrect_indices = (predictions != y_train_tensor).nonzero(as_tuple=True)[0]\n",
    "\n",
    "# Create reverse mapping\n",
    "index_to_word = {index: word for word, index in word_to_index.items()}\n",
    "\n",
    "# Convert sequences to reviews\n",
    "def sequence_to_review(sequence):\n",
    "    return ' '.join(index_to_word.get(index, '') for index in sequence if index != 0)\n",
    "\n",
    "# Retrieve incorrect reviews with predictions and actual labels\n",
    "incorrect_reviews_info = []\n",
    "for i in incorrect_indices:\n",
    "    review_text = sequence_to_review(X_train[i])\n",
    "    predicted_label = predictions[i].item()  # Get the predicted label (0 or 1)\n",
    "    actual_label = y_train_tensor[i].item()  # Get the actual label\n",
    "    incorrect_reviews_info.append((review_text, predicted_label, actual_label))\n",
    "\n",
    "# Retrieve correct reviews with predictions and actual labels\n",
    "correct_reviews_info = []\n",
    "for i in correct_indices:\n",
    "    review_text = sequence_to_review(X_train[i])\n",
    "    predicted_label = predictions[i].item()  # Get the predicted label (0 or 1)\n",
    "    actual_label = y_train_tensor[i].item()  # Get the actual label\n",
    "    correct_reviews_info.append((review_text, predicted_label, actual_label))\n",
    "\n",
    "# Select 5 random correct and incorrect reviews\n",
    "selected_correct_reviews = random.sample(correct_reviews_info, min(5, len(correct_reviews_info)))\n",
    "selected_incorrect_reviews = random.sample(incorrect_reviews_info, min(5, len(incorrect_reviews_info)))"
   ]
  },
  {
   "cell_type": "code",
   "execution_count": 28,
   "id": "979283a2-591f-4907-b3bf-f71c0896c41d",
   "metadata": {},
   "outputs": [
    {
     "name": "stdout",
     "output_type": "stream",
     "text": [
      "==================================================\n",
      "\u001b[1m      Incorrect Predictions\u001b[0m\n",
      "==================================================\n",
      "Review: watched hulu far many commercial ! broke pacing even still , like watching really bad buddy movie early sixty dean martin jerry lewis part played jerry lewis indian , id protest portrayal male venal woman shrew cheated music video western sale used lot western model male could touch usually enjoy indian film lot major disappointment , especially modern indian film story doesnt take place india uncle keep referring mac return india cant find supposed happening\n",
      "\n",
      "Predicted: Positive\n",
      "Actual: Negative\n",
      "--------------------------------------------------\n",
      "Review: recently watched movie twice , cant seem understand hll maker made pile crap mean , yes , give great impression hitler environment , mean way reproduced austria late , wwi interwar period cant understand pictured hitler pure evil , mad , unreliable , mentally unstable freak thoughtful , loving intelligent man course dark side , no doubt heaven name portray way positive aspect cut scenario , leaving nothing propagandalike portrait man biggest influence modern civilization ever yes , threw germany devastating nd world war yes , racist , yes time menially unstable especially end war true hell plain lie public\n",
      "\n",
      "Predicted: Positive\n",
      "Actual: Negative\n",
      "--------------------------------------------------\n",
      "Review: sure , movie sappy sweet full clichs , entertaining , thats watch movie entertained natasha henstridge stunning , even short hair smile radiant beauty cant disguised michael vartan , im sure woman love two seemed really like eacb film dont understand comment no chemistry guess see want seebr br olivia dabo michael rigoli fun watch , even dabos british accent creep supposed bronx speech tell truth hadnt really noticed read comment , went back dvd dialogue sound british american , ideal role one exception br br story two nice people getting married significant others , find soul mate one another\n",
      "\n",
      "Predicted: Negative\n",
      "Actual: Positive\n",
      "--------------------------------------------------\n",
      "Review: still grainy , late night , nocable , cheap vhs dub show waaaaaayyyy back , latenightcommercials , would stay whatever weird hour would slap show could tape itbr br series wasnt really freddy kreuger first couple episode actually involved anything rod serlingesquire announcer instead , episode distinct nightmare , using traditional horror theme horrific childhood , dating , cannibalism , dating , money , death , dating , hmm datingbr br episode teenage boy accidentally say love forever wrong girl , stuck literally , least moment , grow together , one young stewardess go home strange man , find cabin\n",
      "\n",
      "Predicted: Negative\n",
      "Actual: Positive\n",
      "--------------------------------------------------\n",
      "Review: wrestlemania didnt thing , battle royal involvement celebrity throwback good old day , speak , seemed highbrow house anything else averageworth several match tag team title match , although worthy note title change meant nothing , reversed next night\n",
      "\n",
      "Predicted: Negative\n",
      "Actual: Positive\n",
      "--------------------------------------------------\n",
      "==================================================\n",
      "\u001b[1m      Correct Predictions\u001b[0m\n",
      "==================================================\n",
      "Review: barbra streisand still curiosity , probably raised industry eyebrow cbs signed year , million television deal nothing day important , barbra manager insisted creative controland got special filmed way , part vision turn clever , canny , incredible opening act title song not written specifically , streisand race classy cast song linked im late alice wonderland ! even keep line fuzzy ear whisker much time shave ! totally charming , not bizarre , selectionand enjoy didnt make two soundtrack album released slows make believe get perhaps slow , dramatic wine taste amazing kid cute streisand looking tiny huge chairis lily\n",
      "\n",
      "Predicted: Positive\n",
      "Actual: Positive\n",
      "--------------------------------------------------\n",
      "Review: princess tam tam without trapping racism , way think racism united state , subtle american viewer assertion ethnic identity time pay attention alwinas baker placement within shot , addressed character , setting around depict savage african , ask alwina shred agency throughout film dont want ruin anything end pay careful attention , dichotomy eastern western culture say least offensive , diction thankfully disavowed day french checkered past imperial force throughout area depicted see chris marker le statue meurent aussi , pay attention place european traveler visit africa , reflect attitude towards give film sucker baker , much professional career ,\n",
      "\n",
      "Predicted: Positive\n",
      "Actual: Positive\n",
      "--------------------------------------------------\n",
      "Review: documentary came splendid work canadian landscape photographer whose interest long ravage left earth excavation building man begin vast factory complex crammed people making great variety little thing , part hightech equipment presumably isnt really made clear emphasis big place many people theyre herded around outside little yellow jacket film also show photographer working tall structure still array people outside factory , talking crew world relentless industrialization relief least know soulless image arent going presented without human voice , case nikolaus geyrhalters gleefully cold documentary food industry , daily bread manufactured landscape contains image people scavenging ewaste town many town ,\n",
      "\n",
      "Predicted: Positive\n",
      "Actual: Positive\n",
      "--------------------------------------------------\n",
      "Review: fear black hat hilarious spoof hiphop culture funny spinal tap , not funnier actor incredible documentary style superb mark christopher lawrence tremendous talent starring lot film film true cult classic !\n",
      "\n",
      "Predicted: Positive\n",
      "Actual: Positive\n",
      "--------------------------------------------------\n",
      "Review: movie mess im surprised even theatrical release without robin williams would gone straight video poorly written poorly directed worse offense taken interesting topic reduced ridiculous boring thriller no thrill no suspense no inner emotional logicespecially first half hour movie dovetail series ridiculous set piece top audience saw laughing save money trailer totally misleading not suspenseful no thrill fact movie truly worst offense simply boring\n",
      "\n",
      "Predicted: Negative\n",
      "Actual: Negative\n",
      "--------------------------------------------------\n"
     ]
    }
   ],
   "source": [
    "# Print incorrect reviews with predictions and actual labels\n",
    "print(\"=\" * 50)\n",
    "print(\"\\033[1m\" + \"      Incorrect Predictions\" +  \"\\033[0m\")\n",
    "print(\"=\" * 50)\n",
    "for review_text, predicted_label, actual_label in selected_incorrect_reviews:\n",
    "    sentiment = \"Positive\" if predicted_label == 1 else \"Negative\"\n",
    "    actual_sentiment = \"Positive\" if actual_label == 1 else \"Negative\"\n",
    "    print(f\"Review: {review_text}\\n\\nPredicted: {sentiment}\\nActual: {actual_sentiment}\\n\" + \"-\" * 50)\n",
    "\n",
    "# Print correct reviews with predictions and actual labels\n",
    "print(\"=\" * 50)\n",
    "print(\"\\033[1m\" + \"      Correct Predictions\" + \"\\033[0m\")\n",
    "print(\"=\" * 50)\n",
    "for review_text, predicted_label, actual_label in selected_correct_reviews:\n",
    "    sentiment = \"Positive\" if predicted_label == 1 else \"Negative\"\n",
    "    actual_sentiment = \"Positive\" if actual_label == 1 else \"Negative\"\n",
    "    print(f\"Review: {review_text}\\n\\nPredicted: {sentiment}\\nActual: {actual_sentiment}\\n\" + \"-\" * 50)"
   ]
  }
 ],
 "metadata": {
  "kernelspec": {
   "display_name": "Python 3 (ipykernel)",
   "language": "python",
   "name": "python3"
  },
  "language_info": {
   "codemirror_mode": {
    "name": "ipython",
    "version": 3
   },
   "file_extension": ".py",
   "mimetype": "text/x-python",
   "name": "python",
   "nbconvert_exporter": "python",
   "pygments_lexer": "ipython3",
   "version": "3.11.7"
  }
 },
 "nbformat": 4,
 "nbformat_minor": 5
}
